{
 "cells": [
  {
   "cell_type": "code",
   "execution_count": null,
   "metadata": {},
   "outputs": [],
   "source": [
    "# For Colab\n",
    "!git clone https://github.com/LimitParadigm/DOEs.git\n",
    "%cd DOEs\n",
    "\n",
    "branch = \"dev\" #main, dev\n",
    "\n",
    "!git fetch\n",
    "!git checkout -B {branch}\n",
    "!git pull origin {branch}"
   ]
  },
  {
   "cell_type": "code",
   "execution_count": null,
   "metadata": {},
   "outputs": [],
   "source": [
    "%load_ext autoreload\n",
    "%autoreload 2\n",
    "\n",
    "import CommitScript as cs"
   ]
  },
  {
   "cell_type": "code",
   "execution_count": null,
   "metadata": {},
   "outputs": [],
   "source": [
    "# FOR COMMITTING\n",
    "# Change the branch eventually\n",
    "# Rememeber to write a message that is usefull\n",
    "message = \"\"\n",
    "cs.commit(branch, message)"
   ]
  }
 ],
 "metadata": {
  "kernelspec": {
   "display_name": "gymanm",
   "language": "python",
   "name": "python3"
  },
  "language_info": {
   "name": "python",
   "version": "3.9.23"
  }
 },
 "nbformat": 4,
 "nbformat_minor": 2
}
